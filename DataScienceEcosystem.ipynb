{
 "cells": [
  {
   "cell_type": "markdown",
   "id": "c5cfc4bc",
   "metadata": {},
   "source": [
    "# Data Science Tools and Ecosystem"
   ]
  },
  {
   "cell_type": "markdown",
   "id": "7589ef6f",
   "metadata": {},
   "source": [
    "In this notebook, Data Science Tools and Ecosystem are summarized."
   ]
  },
  {
   "cell_type": "markdown",
   "id": "bc274e98",
   "metadata": {},
   "source": [
    "Some of the popular languages that Data Scientists use are:\n",
    "\n",
    "1.Python\n",
    "2.R\n",
    "3.SQL\n",
    "4.MATLAB\n",
    "5.JavaScript\n",
    "6.Java etc."
   ]
  },
  {
   "cell_type": "markdown",
   "id": "8febf89f",
   "metadata": {},
   "source": [
    "Some of the commonly used libraries used by Data Scientists include:\n",
    "1. NumPy\n",
    "2. pandas\n",
    "3. scikit-learn\n",
    "4. TensorFlow\n",
    "5. PyTorch\n",
    "6. Matplotlib\n",
    "7. Seaborn\n",
    "8. SciPy\n",
    "9. Statsmodels\n",
    "10. NLTK (Natural Language Toolkit)\n",
    "11. OpenCV (Open Source Computer Vision Library)\n",
    "12. Keras\n",
    "13. XGBoost\n",
    "14. LightGBM\n",
    "15. CatBoost"
   ]
  },
  {
   "cell_type": "markdown",
   "id": "533581f2",
   "metadata": {},
   "source": [
    "| Tool         |\n",
    "|--------------|\n",
    "| Hadoop       |\n",
    "| TensorFlow   |\n",
    "| OpenCV       |\n",
    "| Keras        |\n"
   ]
  },
  {
   "cell_type": "markdown",
   "id": "b768defd",
   "metadata": {},
   "source": [
    "### Below are a few examples of evaluating arithmetic expressions in Python"
   ]
  },
  {
   "cell_type": "code",
   "execution_count": 3,
   "id": "25aa28a3",
   "metadata": {},
   "outputs": [
    {
     "data": {
      "text/plain": [
       "17"
      ]
     },
     "execution_count": 3,
     "metadata": {},
     "output_type": "execute_result"
    }
   ],
   "source": [
    "#This a simple arithmetic expression to mutiply then add integers\n",
    "result = (3 * 4) + 5\n",
    "result"
   ]
  },
  {
   "cell_type": "code",
   "execution_count": 4,
   "id": "7b18825d",
   "metadata": {},
   "outputs": [
    {
     "data": {
      "text/plain": [
       "3.3333333333333335"
      ]
     },
     "execution_count": 4,
     "metadata": {},
     "output_type": "execute_result"
    }
   ],
   "source": [
    "# This will convert 200 minutes to hours by diving by 60\n",
    "minutes = 200\n",
    "hours = minutes / 60\n",
    "hours\n"
   ]
  },
  {
   "cell_type": "markdown",
   "id": "f7daa33d",
   "metadata": {},
   "source": [
    " __Objective:__\n",
    "\n",
    "\n",
    "* List popular languages for Data Science\n",
    "* List popular tools for Data Science\n",
    "* List popular libraries/packages for Data Science\n",
    "* How to add comments in the cell"
   ]
  },
  {
   "cell_type": "markdown",
   "id": "e6f56de4",
   "metadata": {},
   "source": [
    "## Author\n",
    "Goutham Udayagiri"
   ]
  }
 ],
 "metadata": {
  "kernelspec": {
   "display_name": "Python 3 (ipykernel)",
   "language": "python",
   "name": "python3"
  },
  "language_info": {
   "codemirror_mode": {
    "name": "ipython",
    "version": 3
   },
   "file_extension": ".py",
   "mimetype": "text/x-python",
   "name": "python",
   "nbconvert_exporter": "python",
   "pygments_lexer": "ipython3",
   "version": "3.11.5"
  }
 },
 "nbformat": 4,
 "nbformat_minor": 5
}
